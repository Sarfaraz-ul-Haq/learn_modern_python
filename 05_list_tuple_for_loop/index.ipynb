{
 "cells": [
  {
   "cell_type": "code",
   "execution_count": 51,
   "metadata": {},
   "outputs": [
    {
     "name": "stdout",
     "output_type": "stream",
     "text": [
      "guava\n",
      "strawberries\n",
      "mango\n",
      "apple\n",
      "grapes\n",
      "bananas\n"
     ]
    }
   ],
   "source": [
    "fruits: list[str] = [\"guava\", \"strawberries\", \"mango\", \"apple\", \"grapes\", \"bananas\"]\n",
    "\n",
    "for fruit in fruits:\n",
    "    print(fruit)"
   ]
  },
  {
   "cell_type": "code",
   "execution_count": 52,
   "metadata": {},
   "outputs": [
    {
     "name": "stdout",
     "output_type": "stream",
     "text": [
      "I like GUAVA\n",
      "I eat fruits daily.\n",
      "I like STRAWBERRIES\n",
      "I eat fruits daily.\n",
      "I like MANGO\n",
      "I eat fruits daily.\n",
      "I like APPLE\n",
      "I eat fruits daily.\n",
      "I like GRAPES\n",
      "I eat fruits daily.\n",
      "I like BANANAS\n",
      "I eat fruits daily.\n"
     ]
    }
   ],
   "source": [
    "fruits: list[str] = [\"guava\", \"strawberries\", \"mango\", \"apple\", \"grapes\", \"bananas\"]\n",
    "\n",
    "for fruit in fruits:\n",
    "    print(f\"I like {fruit.upper()}\")\n",
    "    print(\"I eat fruits daily.\")"
   ]
  },
  {
   "cell_type": "code",
   "execution_count": 53,
   "metadata": {},
   "outputs": [
    {
     "name": "stdout",
     "output_type": "stream",
     "text": [
      "I like GUAVA\n",
      "I like STRAWBERRIES\n",
      "I like MANGO\n",
      "I like APPLE\n",
      "I like GRAPES\n",
      "I like BANANAS\n",
      "I eat fruits daily.\n"
     ]
    }
   ],
   "source": [
    "fruits: list[str] = [\"guava\", \"strawberries\", \"mango\", \"apple\", \"grapes\", \"bananas\"]\n",
    "\n",
    "for fruit in fruits:\n",
    "    print(f\"I like {fruit.upper()}\")\n",
    "print(\"I eat fruits daily.\")"
   ]
  },
  {
   "cell_type": "code",
   "execution_count": 54,
   "metadata": {},
   "outputs": [
    {
     "name": "stdout",
     "output_type": "stream",
     "text": [
      "('Sir Zia', '789')\n",
      "('Sir Jahanzaib', '456')\n",
      "('Sir Qasim', '123')\n"
     ]
    }
   ],
   "source": [
    "database: list[tuple[str, str]] = [(\"Sir Zia\", \"789\"),\n",
    "                                   (\"Sir Jahanzaib\", \"456\"),\n",
    "                                   (\"Sir Qasim\", \"123\")]\n",
    "\n",
    "for row in database:\n",
    "    print(row)"
   ]
  },
  {
   "cell_type": "code",
   "execution_count": 55,
   "metadata": {},
   "outputs": [
    {
     "name": "stdout",
     "output_type": "stream",
     "text": [
      "Sir Zia 789\n",
      "Sir Jahanzaib 456\n",
      "Sir Qasim 123\n"
     ]
    }
   ],
   "source": [
    "database: list[tuple[str, str]] = [(\"Sir Zia\", \"789\"),\n",
    "                                   (\"Sir Jahanzaib\", \"456\"),\n",
    "                                   (\"Sir Qasim\", \"123\")]\n",
    "\n",
    "for row in database:\n",
    "    print(*row)"
   ]
  },
  {
   "cell_type": "code",
   "execution_count": 56,
   "metadata": {},
   "outputs": [
    {
     "name": "stdout",
     "output_type": "stream",
     "text": [
      "User not found\n"
     ]
    }
   ],
   "source": [
    "database: list[tuple[str, str]] = [(\"Sir Zia\", \"789\"),\n",
    "                                   (\"Sir Jahanzaib\", \"456\"),\n",
    "                                   (\"Sir Qasim\", \"123\")]\n",
    "\n",
    "input_username: str = input(\"Enter username\")\n",
    "input_password: str = input(\"Enter password\")\n",
    "\n",
    "for row in database:\n",
    "    user_name, user_password = row\n",
    "    if input_username == user_name and input_password == user_password:\n",
    "        print(\"Valid user\")\n",
    "        break\n",
    "else: \n",
    "    print(\"User not found\")"
   ]
  },
  {
   "cell_type": "code",
   "execution_count": 57,
   "metadata": {},
   "outputs": [
    {
     "name": "stdout",
     "output_type": "stream",
     "text": [
      "apple\n"
     ]
    }
   ],
   "source": [
    "fruits = [\"apple\", \"banana\", \"cherry\", \"kiwi\", \"mango\"]\n",
    "\n",
    "for fruit in fruits:\n",
    "    print(fruit)\n",
    "    break\n",
    "else:\n",
    "    print(\"else blocks runs when the loop is finished\")"
   ]
  },
  {
   "cell_type": "code",
   "execution_count": 58,
   "metadata": {},
   "outputs": [
    {
     "name": "stdout",
     "output_type": "stream",
     "text": [
      "['apple', 'banana', 'mango']\n"
     ]
    }
   ],
   "source": [
    "fruits = [\"apple\", \"banana\", \"cherry\", \"kiwi\", \"mango\"]\n",
    "newlist = [x for x in fruits if \"a\" in x]\n",
    "print(newlist)"
   ]
  }
 ],
 "metadata": {
  "kernelspec": {
   "display_name": "python12",
   "language": "python",
   "name": "python3"
  },
  "language_info": {
   "codemirror_mode": {
    "name": "ipython",
    "version": 3
   },
   "file_extension": ".py",
   "mimetype": "text/x-python",
   "name": "python",
   "nbconvert_exporter": "python",
   "pygments_lexer": "ipython3",
   "version": "3.12.0"
  }
 },
 "nbformat": 4,
 "nbformat_minor": 2
}
