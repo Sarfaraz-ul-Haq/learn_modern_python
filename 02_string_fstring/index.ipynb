{
 "cells": [
  {
   "cell_type": "code",
   "execution_count": 46,
   "metadata": {},
   "outputs": [
    {
     "name": "stdout",
     "output_type": "stream",
     "text": [
      "Guava\n",
      "Guava\n",
      "Guava\n",
      "Guava\n"
     ]
    }
   ],
   "source": [
    "# boundaries\n",
    "# 'string text', \"string text \", '''string text''', \"\"\" string text\"\"\"\n",
    "\n",
    "fruit: str = \"Guava\"\n",
    "print(fruit)\n",
    "\n",
    "fruit: str = 'Guava'\n",
    "print(fruit)\n",
    "\n",
    "fruit: str = \"\"\"Guava\"\"\"\n",
    "print(fruit)\n",
    "\n",
    "fruit: str = '''Guava'''\n",
    "print(fruit)"
   ]
  },
  {
   "cell_type": "code",
   "execution_count": 45,
   "metadata": {},
   "outputs": [
    {
     "ename": "SyntaxError",
     "evalue": "unterminated string literal (detected at line 1) (2987594941.py, line 1)",
     "output_type": "error",
     "traceback": [
      "\u001b[1;36m  Cell \u001b[1;32mIn[45], line 1\u001b[1;36m\u001b[0m\n\u001b[1;33m    message: str = 'PIAIC Student Card\\nfather's Name'\u001b[0m\n\u001b[1;37m                                                     ^\u001b[0m\n\u001b[1;31mSyntaxError\u001b[0m\u001b[1;31m:\u001b[0m unterminated string literal (detected at line 1)\n"
     ]
    }
   ],
   "source": [
    "message: str = 'PIAIC Student Card\\nfather's Name'\n",
    "print(message)"
   ]
  },
  {
   "cell_type": "code",
   "execution_count": 44,
   "metadata": {},
   "outputs": [
    {
     "name": "stdout",
     "output_type": "stream",
     "text": [
      "PIAIC Student Card\n",
      "father's Name\n"
     ]
    }
   ],
   "source": [
    "message: str = \"PIAIC Student Card\\nfather's Name\"\n",
    "print(message)"
   ]
  },
  {
   "cell_type": "code",
   "execution_count": 43,
   "metadata": {},
   "outputs": [
    {
     "name": "stdout",
     "output_type": "stream",
     "text": [
      "PIAIC Student Card\n",
      "father's Name\n"
     ]
    }
   ],
   "source": [
    "# convert any special character into simple character, place \\ before the character\n",
    "message: str = 'PIAIC Student Card\\nfather\\'s Name'\n",
    "print(message)"
   ]
  },
  {
   "cell_type": "code",
   "execution_count": 42,
   "metadata": {},
   "outputs": [
    {
     "name": "stdout",
     "output_type": "stream",
     "text": [
      "PIAIC Student Card\n",
      "father's Name\n"
     ]
    }
   ],
   "source": [
    "message: str = \"PIAIC Student Card\\nfather's Name\"\n",
    "print(message)"
   ]
  },
  {
   "cell_type": "code",
   "execution_count": null,
   "metadata": {},
   "outputs": [
    {
     "data": {
      "text/plain": [
       "'xyz'"
      ]
     },
     "execution_count": 30,
     "metadata": {},
     "output_type": "execute_result"
    }
   ],
   "source": [
    "\"x\" + \"y\" + \"z\""
   ]
  },
  {
   "cell_type": "code",
   "execution_count": 47,
   "metadata": {},
   "outputs": [
    {
     "ename": "TypeError",
     "evalue": "can only concatenate str (not \"int\") to str",
     "output_type": "error",
     "traceback": [
      "\u001b[1;31m---------------------------------------------------------------------------\u001b[0m",
      "\u001b[1;31mTypeError\u001b[0m                                 Traceback (most recent call last)",
      "Cell \u001b[1;32mIn[47], line 1\u001b[0m\n\u001b[1;32m----> 1\u001b[0m \u001b[38;5;124m\"\u001b[39m\u001b[38;5;124mx\u001b[39m\u001b[38;5;124m\"\u001b[39m \u001b[38;5;241m+\u001b[39m \u001b[38;5;241m1\u001b[39m\n",
      "\u001b[1;31mTypeError\u001b[0m: can only concatenate str (not \"int\") to str"
     ]
    }
   ],
   "source": [
    "\"x\" + 1"
   ]
  },
  {
   "cell_type": "code",
   "execution_count": 48,
   "metadata": {},
   "outputs": [
    {
     "data": {
      "text/plain": [
       "'x10'"
      ]
     },
     "execution_count": 48,
     "metadata": {},
     "output_type": "execute_result"
    }
   ],
   "source": [
    "\"x\" + str(10)"
   ]
  },
  {
   "cell_type": "code",
   "execution_count": 56,
   "metadata": {},
   "outputs": [
    {
     "name": "stdout",
     "output_type": "stream",
     "text": [
      "PIAIC Student Card\n",
      "Student Name: Muhammad Qasim\n",
      "Age: 30\n"
     ]
    }
   ],
   "source": [
    "name: str = \"Muhammad Qasim\"\n",
    "father_name: str = \"Muhammad Aslam\"\n",
    "education: str = \"Master in Data Science\"\n",
    "age: int = 30\n",
    "\n",
    "card: str = \"PIAIC Student Card\\nStudent Name: \" + name + \"\\nAge: \" + str(age)\n",
    "\n",
    "print(card)"
   ]
  },
  {
   "cell_type": "code",
   "execution_count": 54,
   "metadata": {},
   "outputs": [
    {
     "name": "stdout",
     "output_type": "stream",
     "text": [
      "1000\n"
     ]
    }
   ],
   "source": [
    "print(700 + 100 + 200)"
   ]
  },
  {
   "cell_type": "markdown",
   "metadata": {},
   "source": [
    "# use \\ for line break\n"
   ]
  },
  {
   "cell_type": "code",
   "execution_count": 55,
   "metadata": {},
   "outputs": [
    {
     "name": "stdout",
     "output_type": "stream",
     "text": [
      "2000\n"
     ]
    }
   ],
   "source": [
    "print(700 + 100 +\\\n",
    "       200 + 200 +\\\n",
    "          600 + 200)"
   ]
  },
  {
   "cell_type": "code",
   "execution_count": 63,
   "metadata": {},
   "outputs": [
    {
     "name": "stdout",
     "output_type": "stream",
     "text": [
      "PIAIC Student Card\n",
      "Student Name: Muhammad Qasim\n",
      "Father's Name: Muhammad Aslam\n",
      "Age:30\n",
      "Education: Master in Data Science\n"
     ]
    }
   ],
   "source": [
    "name: str = 'Muhammad Qasim'\n",
    "father_name: str = \"Muhammad Aslam\"\n",
    "education: str = \"Master in Data Science\"\n",
    "age: int = 30\n",
    "\n",
    "card: str = \"PIAIC Student Card\\nStudent Name: \" +\\\n",
    "             name + \"\\nFather's Name: \" + father_name+\\\n",
    "             \"\\nAge:\" + str(age)+ \"\\n\"+\\\n",
    "             \"Education: \" + education\n",
    "\n",
    "print(card)"
   ]
  },
  {
   "cell_type": "markdown",
   "metadata": {},
   "source": [
    "##  \"\"\"multiline string\"\"\", '''multiline string'''"
   ]
  },
  {
   "cell_type": "code",
   "execution_count": 68,
   "metadata": {},
   "outputs": [
    {
     "name": "stdout",
     "output_type": "stream",
     "text": [
      "\n",
      "Name: Muhammad Qasim\n",
      "Father's Name: Muhammad Aslam\n",
      "Education: Master in Data Science\n",
      "Age: 30\n",
      "\n"
     ]
    }
   ],
   "source": [
    "# just like template strings in javascript\n",
    "card: str = \"\"\"\n",
    "Name: Muhammad Qasim\n",
    "Father's Name: Muhammad Aslam\n",
    "Education: Master in Data Science\n",
    "Age: 30\n",
    "\"\"\"\n",
    "\n",
    "print(card)"
   ]
  },
  {
   "cell_type": "markdown",
   "metadata": {},
   "source": [
    "## F-string in Python"
   ]
  },
  {
   "cell_type": "code",
   "execution_count": 70,
   "metadata": {},
   "outputs": [
    {
     "name": "stdout",
     "output_type": "stream",
     "text": [
      "\n",
      "PIAIC Student Card\n",
      "Student Name : Muhammad Qasim\n",
      "Father's Name: Muhammad Aslam\n",
      "Age: 30\n",
      "Education : Master in Data Science\n",
      "Random expression: 1000\n",
      "\n"
     ]
    }
   ],
   "source": [
    "name: str = \"Muhammad Qasim\"\n",
    "father_name: str = \"Muhammad Aslam\"\n",
    "education: str = \"Master in Data Science\"\n",
    "age: int = 30\n",
    "\n",
    "\n",
    "card: str = f\"\"\"\n",
    "PIAIC Student Card\n",
    "Student Name : {name}\n",
    "Father's Name: {father_name}\n",
    "Age: {age}\n",
    "Education : {education}\n",
    "Random expression: {10 + 90 + 900}\n",
    "\"\"\"\n",
    "\n",
    "print(card)"
   ]
  },
  {
   "cell_type": "markdown",
   "metadata": {},
   "source": [
    "## F-string and Jinja style"
   ]
  },
  {
   "cell_type": "code",
   "execution_count": 72,
   "metadata": {},
   "outputs": [
    {
     "name": "stdout",
     "output_type": "stream",
     "text": [
      "\n",
      "My name is Sarfaraz\n",
      "\n"
     ]
    }
   ],
   "source": [
    "# F-string\n",
    "name: str = \"Sarfaraz\"\n",
    "\n",
    "message: str = f\"\"\"\n",
    "My name is {name}\n",
    "\"\"\"\n",
    "\n",
    "print(message)"
   ]
  },
  {
   "cell_type": "code",
   "execution_count": 77,
   "metadata": {},
   "outputs": [
    {
     "name": "stdout",
     "output_type": "stream",
     "text": [
      "My name is {{name}}\n"
     ]
    }
   ],
   "source": [
    "# Jinja (not working, maybe not installed)\n",
    "name: str = \"Sarfaraz\"\n",
    "\n",
    "message: str = \"\"\"My name is {{name}}\"\"\"\n",
    "\n",
    "print(message)"
   ]
  },
  {
   "cell_type": "code",
   "execution_count": 78,
   "metadata": {},
   "outputs": [
    {
     "name": "stdout",
     "output_type": "stream",
     "text": [
      "\n",
      "PIAIC Student Card\n",
      "Student Name : Muhammad Qasim\n",
      "Father's Name: Muhammad Aslam\n",
      "Age: 30\n",
      "Education: Master in Data Science \n",
      "\n",
      "\n"
     ]
    }
   ],
   "source": [
    "name: str = \"Muhammad Qasim\"\n",
    "father_name: str = \"Muhammad Aslam\"\n",
    "education: str = \"Master in Data Science\"\n",
    "age: int = 30\n",
    "\n",
    "\n",
    "card: str = f\"\"\"\n",
    "PIAIC Student Card\n",
    "Student Name : %s\n",
    "Father's Name: %s\n",
    "Age: %d\n",
    "Education: %s \n",
    "\n",
    "\"\"\" % (name, father_name, age, education)\n",
    "\n",
    "print(card)"
   ]
  },
  {
   "cell_type": "code",
   "execution_count": 79,
   "metadata": {},
   "outputs": [
    {
     "name": "stdout",
     "output_type": "stream",
     "text": [
      "\n",
      "PIAIC Student Card\n",
      "Student Name : Muhammad Qasim\n",
      "Father's Name: Muhammad Aslam\n",
      "Age: 30\n",
      "Education: Master in Data Science \n",
      "\n"
     ]
    }
   ],
   "source": [
    "name: str = \"Muhammad Qasim\"\n",
    "father_name: str = \"Muhammad Aslam\"\n",
    "education: str = \"Master in Data Science\"\n",
    "age: int = 30\n",
    "\n",
    "\n",
    "card: str = \"\"\"\n",
    "PIAIC Student Card\n",
    "Student Name : {}\n",
    "Father's Name: {}\n",
    "Age: {}\n",
    "Education: {} \n",
    "\"\"\".format(name, father_name, age, education)\n",
    "\n",
    "print(card)"
   ]
  },
  {
   "cell_type": "code",
   "execution_count": 80,
   "metadata": {},
   "outputs": [
    {
     "name": "stdout",
     "output_type": "stream",
     "text": [
      "\n",
      "PIAIC Student Card\n",
      "Student Name : Muhammad Qasim\n",
      "Father's Name: Muhammad Aslam\n",
      "Age: 30\n",
      "Education: Master in Data Science\n",
      "\n"
     ]
    }
   ],
   "source": [
    "name: str = \"Muhammad Qasim\"\n",
    "father_name: str = \"Muhammad Aslam\"\n",
    "education: str = \"Master in Data Science\"\n",
    "age: int = 30\n",
    "\n",
    "\n",
    "card: str = f\"\"\"\n",
    "PIAIC Student Card\n",
    "Student Name : %s\n",
    "Father's Name: %s\n",
    "Age: %d\n",
    "Education: %s\n",
    "\"\"\"%(name, father_name, age, education)\n",
    "\n",
    "print(card)"
   ]
  }
 ],
 "metadata": {
  "kernelspec": {
   "display_name": "base",
   "language": "python",
   "name": "python3"
  },
  "language_info": {
   "codemirror_mode": {
    "name": "ipython",
    "version": 3
   },
   "file_extension": ".py",
   "mimetype": "text/x-python",
   "name": "python",
   "nbconvert_exporter": "python",
   "pygments_lexer": "ipython3",
   "version": "3.12.4"
  }
 },
 "nbformat": 4,
 "nbformat_minor": 2
}
