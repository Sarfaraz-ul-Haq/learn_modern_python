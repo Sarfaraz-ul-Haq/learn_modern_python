{
 "cells": [
  {
   "cell_type": "code",
   "execution_count": 2,
   "metadata": {},
   "outputs": [
    {
     "name": "stdout",
     "output_type": "stream",
     "text": [
      "\n",
      "House Address: 98765\n",
      "Number of Rooms: 4\n",
      "Date of Construction: 1990\n"
     ]
    }
   ],
   "source": [
    "class House():\n",
    "    def __init__(self, house_address: str, number_of_rooms: int, year_built: int) -> None:\n",
    "        self.address: str = house_address\n",
    "        self.number_of_rooms: int = number_of_rooms\n",
    "        self.year_built: int = year_built\n",
    "\n",
    "    def get_info(self) -> str:\n",
    "        return f\"\"\"\n",
    "House Address: {self.address}\n",
    "Number of Rooms: {self.number_of_rooms}\n",
    "Date of Construction: {self.year_built}\"\"\"\n",
    "    \n",
    "test_house1: House = House(\"98765\", 4, 1990)\n",
    "print(test_house1.get_info())\n"
   ]
  },
  {
   "cell_type": "code",
   "execution_count": 3,
   "metadata": {},
   "outputs": [
    {
     "name": "stdout",
     "output_type": "stream",
     "text": [
      "98765\n"
     ]
    }
   ],
   "source": [
    "class House():\n",
    "    def __init__(self, house_address: str, number_of_rooms: int, year_built: int) -> None:\n",
    "        self.address: str = house_address\n",
    "        self.number_of_rooms: int = number_of_rooms\n",
    "        self.year_built: int = year_built\n",
    "\n",
    "    def get_info(self) -> str:\n",
    "        return f\"\"\"\n",
    "House Address: {self.address}\n",
    "Number of Rooms: {self.number_of_rooms}\n",
    "Date of Construction: {self.year_built}\"\"\"\n",
    "    \n",
    "test_house2: House = House(\"12345\", 3, 2000)\n",
    "print(test_house1.address)\n"
   ]
  },
  {
   "cell_type": "code",
   "execution_count": null,
   "metadata": {},
   "outputs": [],
   "source": [
    "class Dog():\n",
    "    species: str = \"Canis Familiaris\"\n",
    "\n",
    "    def __init__(self, dog_name: str, dog_age: int) -> None:\n",
    "        self.name: str = dog_name\n",
    "        self.age: int = dog_age\n",
    "\n",
    "    def bark(self) -> None:\n",
    "        print(\"Woof!\")\n",
    "        "
   ]
  }
 ],
 "metadata": {
  "kernelspec": {
   "display_name": "python3.12.4",
   "language": "python",
   "name": "python3"
  },
  "language_info": {
   "codemirror_mode": {
    "name": "ipython",
    "version": 3
   },
   "file_extension": ".py",
   "mimetype": "text/x-python",
   "name": "python",
   "nbconvert_exporter": "python",
   "pygments_lexer": "ipython3",
   "version": "3.12.4"
  }
 },
 "nbformat": 4,
 "nbformat_minor": 2
}
