{
 "cells": [
  {
   "cell_type": "code",
   "execution_count": 2,
   "metadata": {},
   "outputs": [
    {
     "name": "stdout",
     "output_type": "stream",
     "text": [
      "\n",
      "House Address: 98765\n",
      "Number of Rooms: 4\n",
      "Date of Construction: 1990\n"
     ]
    }
   ],
   "source": [
    "class House():\n",
    "    def __init__(self, house_address: str, number_of_rooms: int, year_built: int) -> None:\n",
    "        self.address: str = house_address\n",
    "        self.number_of_rooms: int = number_of_rooms\n",
    "        self.year_built: int = year_built\n",
    "\n",
    "    def get_info(self) -> str:\n",
    "        return f\"\"\"\n",
    "House Address: {self.address}\n",
    "Number of Rooms: {self.number_of_rooms}\n",
    "Date of Construction: {self.year_built}\"\"\"\n",
    "    \n",
    "test_house1: House = House(\"98765\", 4, 1990)\n",
    "print(test_house1.get_info())\n"
   ]
  },
  {
   "cell_type": "code",
   "execution_count": 3,
   "metadata": {},
   "outputs": [
    {
     "name": "stdout",
     "output_type": "stream",
     "text": [
      "98765\n"
     ]
    }
   ],
   "source": [
    "class House():\n",
    "    def __init__(self, house_address: str, number_of_rooms: int, year_built: int) -> None:\n",
    "        self.address: str = house_address\n",
    "        self.number_of_rooms: int = number_of_rooms\n",
    "        self.year_built: int = year_built\n",
    "\n",
    "    def get_info(self) -> str:\n",
    "        return f\"\"\"\n",
    "House Address: {self.address}\n",
    "Number of Rooms: {self.number_of_rooms}\n",
    "Date of Construction: {self.year_built}\"\"\"\n",
    "    \n",
    "test_house2: House = House(\"12345\", 3, 2000)\n",
    "print(test_house1.address)\n"
   ]
  },
  {
   "cell_type": "markdown",
   "metadata": {},
   "source": [
    "# Inheritance"
   ]
  },
  {
   "cell_type": "code",
   "execution_count": 7,
   "metadata": {},
   "outputs": [
    {
     "name": "stdout",
     "output_type": "stream",
     "text": [
      "Bob\n",
      "3\n",
      "Some generic sound\n",
      "Woof!\n"
     ]
    }
   ],
   "source": [
    "class Animal:\n",
    "    def __init__(self, name, age):\n",
    "        self.name = name\n",
    "        self.age = age\n",
    "    \n",
    "    def speak(self):\n",
    "        print(\"Some generic sound\")\n",
    "\n",
    "class Dog(Animal):\n",
    "    def bark(self):\n",
    "        print(\"Woof!\")\n",
    "\n",
    "pet_dog: Dog = Dog(\"Bob\", 3)\n",
    "\n",
    "print(pet_dog.name)\n",
    "print(pet_dog.age)\n",
    "pet_dog.speak()\n",
    "pet_dog.bark()"
   ]
  }
 ],
 "metadata": {
  "kernelspec": {
   "display_name": "python3.12.4",
   "language": "python",
   "name": "python3"
  },
  "language_info": {
   "codemirror_mode": {
    "name": "ipython",
    "version": 3
   },
   "file_extension": ".py",
   "mimetype": "text/x-python",
   "name": "python",
   "nbconvert_exporter": "python",
   "pygments_lexer": "ipython3",
   "version": "3.12.4"
  }
 },
 "nbformat": 4,
 "nbformat_minor": 2
}
